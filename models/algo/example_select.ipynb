{
 "cells": [
  {
   "cell_type": "code",
   "execution_count": null,
   "metadata": {},
   "outputs": [],
   "source": [
    "import numpy as np\n",
    "from xml.etree import ElementTree as ET\n",
    "import pandas as pd\n",
    "from datetime import datetime\n"
   ]
  },
  {
   "cell_type": "code",
   "execution_count": null,
   "metadata": {},
   "outputs": [],
   "source": [
    "## Filter out the good examples of Time duration prediction\n",
    "trial_path = \"/Users/leo/Documents/code/clinical-trial/original/Downloads/\"\n"
   ]
  },
  {
   "cell_type": "code",
   "execution_count": null,
   "metadata": {},
   "outputs": [],
   "source": [
    "input_file = f\"{trial_path}/trials/all_xml.txt\"\n",
    "with open(input_file, 'r') as fin:\n",
    "    lines = fin.readlines()\n",
    "\n",
    "input_file_lst = [i.strip() for i in lines]\n",
    "\n",
    "LOGGER.log_with_depth(input_file_lst[:10])"
   ]
  },
  {
   "cell_type": "code",
   "execution_count": null,
   "metadata": {},
   "outputs": [],
   "source": []
  },
  {
   "cell_type": "code",
   "execution_count": null,
   "metadata": {},
   "outputs": [],
   "source": [
    "iqvia_outcomes = pd.read_csv(\"/Users/leo/Documents/code/clinical-trial/Clinical-Trials-Time-Prediction/data/IQVIA/trial_outcomes_v1.csv\")\n",
    "\n",
    "LOGGER.log_with_depth(iqvia_outcomes)\n",
    "\n",
    "nctid2outcome = { row[0]: row[1] for idx, row in iqvia_outcomes.iterrows()}"
   ]
  },
  {
   "cell_type": "code",
   "execution_count": null,
   "metadata": {},
   "outputs": [],
   "source": [
    "def parse_date(date_str):\n",
    "    try:\n",
    "        output = datetime.strptime(date_str, \"%B %d, %Y\")\n",
    "    except:\n",
    "        try:\n",
    "            output = datetime.strptime(date_str, \"%B %Y\")\n",
    "        except Exception as e:\n",
    "            LOGGER.log_with_depth(e)\n",
    "            raise e\n",
    "    return output\n",
    "\n",
    "def calculate_duration(start_date, completion_date):\n",
    "    # Unit: days\n",
    "    if start_date and completion_date:\n",
    "        start_date = parse_date(start_date)\n",
    "        completion_date = parse_date(completion_date)\n",
    "        duration = (completion_date - start_date).days\n",
    "    else:\n",
    "        duration = -1\n",
    "\n",
    "    return duration\n",
    "\n",
    "def xml_file_2_tuple(xml_file):\n",
    "    tree = ET.parse(xml_file)\n",
    "    root = tree.getroot()\n",
    "    nctid = root.find('id_info').find('nct_id').text\t### nctid: 'NCT00000102'\n",
    "    study_type = root.find('study_type').text \n",
    "    if study_type != 'Interventional':\n",
    "        return (\"non-Interventional\",) \n",
    "\n",
    "    interventions = [i for i in root.findall('intervention')]\n",
    "    drug_interventions = [i.find('intervention_name').text for i in interventions \\\n",
    "                                                        if i.find('intervention_type').text=='Drug']\n",
    "                                                        # or i.find('intervention_type').text=='Biological']\n",
    "    if len(drug_interventions)==0:\n",
    "        return (\"Biological\",)\n",
    "\n",
    "    try:\n",
    "        status = root.find('overall_status').text \n",
    "    except:\n",
    "        status = ''\n",
    "\n",
    "    try:\n",
    "        why_stop = root.find('why_stopped').text\n",
    "    except:\n",
    "        why_stop = ''\n",
    "\n",
    "    try:\n",
    "        phase = root.find('phase').text \n",
    "        # LOGGER.log_with_depth(\"phase\\n\\t\\t\", phase)\n",
    "    except:\n",
    "        phase = ''\n",
    "    conditions = [i.text for i in root.findall('condition')]\n",
    "\n",
    "    try:\n",
    "        criteria = root.find('eligibility').find('criteria').find('textblock').text \n",
    "    except:\n",
    "        criteria = ''\n",
    "\n",
    "    conditions = [i.lower() for i in conditions]\n",
    "    drugs = [i.lower() for i in drug_interventions]\n",
    "\n",
    "    try:\n",
    "        start_date = root.find('start_date').text\n",
    "    except:\n",
    "        start_date = ''\n",
    "\n",
    "    try:\n",
    "        completion_date = root.find('primary_completion_date').text\n",
    "    except:\n",
    "        try:\n",
    "            completion_date = root.find('completion_date').text \n",
    "        except:\n",
    "            completion_date = ''\n",
    "    \n",
    "    if start_date and completion_date:\n",
    "        duration = calculate_duration(start_date, completion_date)\n",
    "    else:\n",
    "        duration = -1\n",
    "    \n",
    "    outcome = nctid2outcome[nctid] if nctid in nctid2outcome else -1\n",
    "\n",
    "    return nctid, status, why_stop, phase, conditions, criteria, drugs, duration, outcome\n"
   ]
  },
  {
   "cell_type": "code",
   "execution_count": null,
   "metadata": {},
   "outputs": [],
   "source": [
    "for i in range (10000):\n",
    "    random_idx = np.random.randint(0, len(input_file_lst))\n",
    "\n",
    "    result = xml_file_2_tuple(f\"{trial_path}/{input_file_lst[random_idx]}\")\n",
    "\n",
    "    if len(result) == 1:\n",
    "        continue\n",
    "\n",
    "    nctid, status, why_stop, phase, conditions, criteria, drugs, duration, outcome = result\n",
    "\n",
    "    if outcome != \"Terminated, Poor enrollment\":\n",
    "        continue\n",
    "\n",
    "    LOGGER.log_with_depth(f\"conditions: {conditions}\")\n",
    "    LOGGER.log_with_depth(f\"drugs: {drugs}\")\n",
    "    LOGGER.log_with_depth(f\"criteria: {criteria}\")\n",
    "    LOGGER.log_with_depth(f\"duration: {duration}\")\n",
    "    LOGGER.log_with_depth(f\"outcome: {outcome}\")\n",
    "    LOGGER.log_with_depth(f\"nctid: {nctid}\")\n",
    "    LOGGER.log_with_depth(f\"phase: {phase}\")\n",
    "    LOGGER.log_with_depth(f\"status: {status}\")\n",
    "    LOGGER.log_with_depth(f\"why_stop: {why_stop}\")\n",
    "    LOGGER.log_with_depth(\"=====================================\\n\")\n"
   ]
  },
  {
   "cell_type": "code",
   "execution_count": null,
   "metadata": {},
   "outputs": [],
   "source": []
  },
  {
   "cell_type": "markdown",
   "metadata": {},
   "source": []
  }
 ],
 "metadata": {
  "kernelspec": {
   "display_name": "base",
   "language": "python",
   "name": "python3"
  },
  "language_info": {
   "codemirror_mode": {
    "name": "ipython",
    "version": 3
   },
   "file_extension": ".py",
   "mimetype": "text/x-python",
   "name": "python",
   "nbconvert_exporter": "python",
   "pygments_lexer": "ipython3",
   "version": "3.11.5"
  }
 },
 "nbformat": 4,
 "nbformat_minor": 2
}
