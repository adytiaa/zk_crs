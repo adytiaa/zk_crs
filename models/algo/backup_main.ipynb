{
 "cells": [
  {
   "cell_type": "code",
   "execution_count": 7,
   "metadata": {},
   "outputs": [],
   "source": [
    "from dotenv import load_dotenv\n",
    "load_dotenv()\n",
    "\n",
    "\n",
    "import json\n",
    "from tqdm import tqdm\n",
    "from openai import OpenAI\n",
    "from tenacity import retry, wait_random_exponential, stop_after_attempt\n",
    "from termcolor import colored  \n",
    "\n",
    "# [gpt-3.5-turbo-0125, gpt-4-0125-preview]\n",
    "GPT_MODEL = \"gpt-4-0125-preview\"\n",
    "client = OpenAI()"
   ]
  },
  {
   "cell_type": "code",
   "execution_count": 8,
   "metadata": {},
   "outputs": [],
   "source": [
    "@retry(wait=wait_random_exponential(multiplier=1, max=40), stop=stop_after_attempt(3))\n",
    "def chat_completion_request(messages, tools=None, tool_choice=None, model=GPT_MODEL):\n",
    "    try:\n",
    "        response = client.chat.completions.create(\n",
    "            model=model,\n",
    "            messages=messages,\n",
    "            tools=tools,\n",
    "            tool_choice=tool_choice,\n",
    "        )\n",
    "        return response\n",
    "    except Exception as e:\n",
    "        LOGGER.log_with_depth(\"Unable to generate ChatCompletion response\")\n",
    "        LOGGER.log_with_depth(f\"Exception: {e}\")\n",
    "        return e\n"
   ]
  },
  {
   "cell_type": "markdown",
   "metadata": {},
   "source": [
    "## decompose the problem into subproblems"
   ]
  },
  {
   "cell_type": "code",
   "execution_count": 9,
   "metadata": {},
   "outputs": [],
   "source": [
    "system_prompt = '''\n",
    "You are an expert capable of decomposing problems into subproblems as detailed subproblems as possible, ensuring each subproblem requires only one agent or a function to resolve. \n",
    "Allowing us to delegate each subproblem to the relevant agent or tools for a step-by-step resolution. \n",
    "This approach simplifies complex issues. We have three agents: the Safety Agent, the Efficacy Agent, and the Enrollment Agent. We have one function: predict_outcome.\n",
    "For instance:\n",
    "Question: How can we predict the outcome of a clinical trial?\n",
    "Answer: <subproblem> To understand the safety of the drug, including toxicity and side effects, we need to consult the Safety Agent for safety information. </subproblem>\n",
    "<subproblem> To assess the drug's efficacy against the diseases, it's necessary to ask the Efficacy Agent for information regarding the drug's effectiveness on the disease. </subproblem>\n",
    "<subproblem> To determine if the clinical trial's eligibility criteria facilitate easy enrollment with enough patients, we should seek an enrollment analysis from the Enrollment Agent. </subproblem>\n",
    "<subproblem> Use the predict_outcome function to combine the drug name, disease name, phase and eligibility criteria to predict the outcome of the clinical trial. </subproblem>\n",
    "'''"
   ]
  },
  {
   "cell_type": "code",
   "execution_count": 10,
   "metadata": {},
   "outputs": [
    {
     "name": "stdout",
     "output_type": "stream",
     "text": [
      "I have designed a clinical trial and hope you can help me predict whether this trial can pass Phase I.\n",
      "The following is my clinical trial:\n",
      "\n",
      "disease: ['tumors']\n",
      "drugs: ['dasatinib + ketoconazole']\n",
      "phase: 1\n",
      "criteria: \n",
      "        Inclusion Criteria:\n",
      "\n",
      "          -  ECOG status 0-2\n",
      "\n",
      "          -  Advanced or metastatic disease, unresponsive to standard treatment (or no standard\n",
      "             treatment exists)\n",
      "\n",
      "          -  Biopsy pretreatment\n",
      "\n",
      "          -  Adequate bone marrow, liver and kidney function\n",
      "\n",
      "        Exclusion Criteria:\n",
      "\n",
      "          -  Serious cardiovascular disease\n",
      "\n",
      "          -  Bleeding disorders\n",
      "\n",
      "          -  Gastrointestinal (GI) tract disease\n",
      "\n",
      "          -  Platelet inhibitors\n",
      "\n",
      "          -  H2 blockers, proton pump inhibitors\n",
      "\n"
     ]
    }
   ],
   "source": [
    "user_prompt = open(\"demo_prompt.txt\", \"r\").read()\n",
    "LOGGER.log_with_depth(user_prompt)\n",
    "\n",
    "# demo:\n",
    "# duration: 577\n",
    "# outcome: Terminated, Poor enrollment\n",
    "# nctid: NCT00162214\n",
    "# phase: Phase 1\n",
    "# status: Terminated\n",
    "# why_stop: "
   ]
  },
  {
   "cell_type": "code",
   "execution_count": 11,
   "metadata": {},
   "outputs": [
    {
     "name": "stdout",
     "output_type": "stream",
     "text": [
      "To predict whether this clinical trial can pass Phase I, we need to decompose the problem into specific subproblems that can be addressed by our agents and the function. The subproblems will focus on assessing the safety, efficacy, enrollment feasibility, and an overall prediction of the outcome based on specific trial details. Here's how we can break it down:\n",
      "\n",
      "### Safety Assessment\n",
      "\n",
      "<subproblem> Given the combination of drugs ('dasatinib + ketoconazole'), we need to consult the Safety Agent to identify potential toxicity, side effects, and drug interactions. This includes evaluating the safety concerns related to the combined use of these drugs in patients, especially those with advanced or metastatic tumors. </subproblem>\n",
      "\n",
      "### Efficacy Assessment\n",
      "\n",
      "<subproblem> We should ask the Efficacy Agent to provide data on the known effects of the drug combination 'dasatinib + ketoconazole' on tumors. This includes information on previous studies or any preliminary results that suggest the combination might be effective in treating advanced or metastatic tumors unresponsive to standard treatments. </subproblem>\n",
      "\n",
      "### Enrollment Feasibility\n",
      "\n",
      "<subproblem> To determine if the eligibility criteria (Inclusion Criteria: ECOG status 0-2, advanced or metastatic disease, biopsy pretreatment, adequate organ function; Exclusion Criteria: serious cardiovascular disease, bleeding disorders, GI tract disease, usage of platelet inhibitors, H2 blockers, proton pump inhibitors) are appropriate and will not overly restrict patient enrollment, we need an analysis from the Enrollment Agent. This agent will assess whether the criteria are too stringent, potentially limiting patient numbers, or if they are broad enough to ensure a sufficient participant pool for Phase I. </subproblem>\n",
      "\n",
      "### Outcome Prediction\n",
      "\n",
      "<subproblem> Use the predict_outcome function to input the disease ('tumors'), the drug combination ('dasatinib + ketoconazole'), the trial phase (1), and the eligibility criteria. This function will combine the inputs with the assessments from the Safety, Efficacy, and Enrollment Agents to predict the likelihood of the clinical trial passing Phase I. </subproblem>\n",
      "\n",
      "By addressing these subproblems through our agents and function, we can form a comprehensive view that considers all critical aspects needed to predict the outcome of the clinical trial in question.\n"
     ]
    }
   ],
   "source": [
    "response = chat_completion_request([{ \"role\": \"system\", \"content\": system_prompt }, { \"role\": \"user\", \"content\": user_prompt }])\n",
    "LOGGER.log_with_depth(response.choices[0].message.content)\n"
   ]
  },
  {
   "cell_type": "code",
   "execution_count": null,
   "metadata": {},
   "outputs": [
    {
     "name": "stdout",
     "output_type": "stream",
     "text": [
      "['Consult the Safety Agent to evaluate the safety profile of the combination therapy with dasatinib and ketoconazole, focusing on potential toxicities, side effects, and interactions that may pose risks, particularly in the context of tumors. This will include assessing risks related to cardiovascular diseases, bleeding disorders, GI tract diseases, and effects on platelet function, as these areas are highlighted in the exclusion criteria.', 'Inquire the Efficacy Agent about the expected efficacy of dasatinib combined with ketoconazole in treating advanced or metastatic tumors unresponsive to standard treatments. This inquiry should consider the mechanism of action of both drugs, historical data on their use (individually or in combination) in similar or different tumors, and any preliminary results that may indicate a positive outcome.', 'Request an analysis from the Enrollment Agent on the feasibility of enrolling sufficient patients based on the specified inclusion and exclusion criteria. This includes evaluating the prevalence of advanced or metastatic tumors unresponsive to standard treatments, the proportion of these patients likely to meet the ECOG status criterion, and the adequacy of bone marrow, liver, and kidney function among this patient population. It also involves assessing how the exclusion criteria might limit patient eligibility, particularly concerning patients with existing conditions like cardiovascular diseases, bleeding disorders, GI tract diseases, or those on medication like platelet inhibitors, H2 blockers, and proton pump inhibitors.', \"Utilize the predict_outcome function by inputting 'dasatinib + ketoconazole' as the drug names, 'tumors' as the disease, 'Phase 1' as the phase, and the detailed inclusion and exclusion criteria. This function will consider the information gathered from the Safety, Efficacy, and Enrollment Agents to predict whether the clinical trial can successfully pass Phase 1.\"]\n"
     ]
    }
   ],
   "source": [
    "import re\n",
    "string = response.choices[0].message.content\n",
    "\n",
    "subproblems = re.findall(r\"<subproblem>(.*?)</subproblem>\", string)\n",
    "subproblems = [subproblem.strip() for subproblem in subproblems]\n",
    "\n",
    "LOGGER.log_with_depth(subproblems)\n"
   ]
  },
  {
   "cell_type": "markdown",
   "metadata": {},
   "source": [
    "## Solve the subproblems"
   ]
  },
  {
   "cell_type": "code",
   "execution_count": 2,
   "metadata": {},
   "outputs": [],
   "source": [
    "tools = [\n",
    "    {\n",
    "        \"type\": \"function\",\n",
    "        \"function\": {\n",
    "            \"name\": \"safety_agent\",\n",
    "            \"description\": \"To understand the safety of the drug, including toxicity and side effects, consult the Safety Agent for safety information. Given drug name, return the safety information of the drug, e.g. ADMET, drug introduction, toxicity and side effects etc.\",\n",
    "            \"parameters\": {\n",
    "                \"type\": \"object\",\n",
    "                \"properties\": {\n",
    "                    \"drug_name\": {\n",
    "                        \"type\": \"string\",\n",
    "                        \"description\": \"The drug name\",\n",
    "                    }\n",
    "                },\n",
    "                \"required\": [\"drug_name\"],\n",
    "            },\n",
    "        }\n",
    "    },\n",
    "    {\n",
    "        \"type\": \"function\",\n",
    "        \"function\": {\n",
    "            \"name\": \"efficacy_agent\",\n",
    "            \"description\": \"To assess the drug's efficacy against the diseases, ask the Efficacy Agent for information regarding the drug's effectiveness on the disease. Given drug name and disease name, return the drug introduction, disease introduction, and the path between drug and disease in the hetionet knowledge graph etc.\",\n",
    "            \"parameters\": {\n",
    "                \"type\": \"object\",\n",
    "                \"properties\": {\n",
    "                    \"drug_name\": {\n",
    "                        \"type\": \"string\",\n",
    "                        \"description\": \"The drug name\",\n",
    "                    },\n",
    "                    \"disease_name\": {\n",
    "                        \"type\": \"string\",\n",
    "                        \"description\": \"The disease name\",\n",
    "                    }\n",
    "                },\n",
    "                \"required\": [\"drug_name\", \"disease_name\"],\n",
    "            },\n",
    "        }\n",
    "    },\n",
    "    {\n",
    "        \"type\": \"function\",\n",
    "        \"function\": {\n",
    "            \"name\": \"enrollment_agent\",\n",
    "            \"description\": \"To determine if the clinical trial's eligibility criteria facilitate easy enrollment with enough patients. Given eligibility criteria, return the clinical trial will be poor enrollment, good enrollment, or excellent enrollment.\",\n",
    "            \"parameters\": {\n",
    "                \"type\": \"object\",\n",
    "                \"properties\": {\n",
    "                    \"eligibility_criteria\": {\n",
    "                        \"type\": \"string\",\n",
    "                        \"description\": \"eligibility criteria, contains including criteria and excluding criteria\",\n",
    "                    }\n",
    "                },\n",
    "                \"required\": [\"eligibility_criteria\"],\n",
    "            },\n",
    "        }\n",
    "    },\n",
    "    {\n",
    "        \"type\": \"function\",\n",
    "        \"function\": {\n",
    "            \"name\": \"predict_outcome\",\n",
    "            \"description\": \"Given the drug name, phase, disease name, eligibility criteria, predict the outcome of the clinical trial. Here, the trial outcome refers to a binary success indicator whether the trial is completed to meet their primary endpoints. \",\n",
    "            \"parameters\": {\n",
    "                \"type\": \"object\",\n",
    "                \"properties\": {\n",
    "                    \"drug_name\": {\n",
    "                        \"type\": \"string\",\n",
    "                        \"description\": \"The drug name\",\n",
    "                    },\n",
    "                    \"phase\": {\n",
    "                        \"type\": \"string\",\n",
    "                        \"description\": \"The phase of the clinical trial\",\n",
    "                    },\n",
    "                    \"disease_name\": {\n",
    "                        \"type\": \"string\",\n",
    "                        \"description\": \"The disease name\",\n",
    "                    },\n",
    "                    \"eligibility_criteria\": {\n",
    "                        \"type\": \"string\",\n",
    "                        \"description\": \"eligibility criteria, contains including criteria and excluding criteria\",\n",
    "                    }\n",
    "                },\n",
    "            }\n",
    "        }\n",
    "    },\n",
    "]\n",
    "\n"
   ]
  },
  {
   "cell_type": "code",
   "execution_count": 5,
   "metadata": {},
   "outputs": [
    {
     "name": "stdout",
     "output_type": "stream",
     "text": [
      "[{'function_name': 'safety_agent', 'description': 'To understand the safety of the drug, including toxicity and side effects, consult the Safety Agent for safety information. Given drug name, return the safety information of the drug, e.g. ADMET, drug introduction, toxicity and side effects etc.'}, {'function_name': 'efficacy_agent', 'description': \"To assess the drug's efficacy against the diseases, ask the Efficacy Agent for information regarding the drug's effectiveness on the disease. Given drug name and disease name, return the drug introduction, disease introduction, and the path between drug and disease in the hetionet knowledge graph etc.\"}, {'function_name': 'enrollment_agent', 'description': \"To determine if the clinical trial's eligibility criteria facilitate easy enrollment with enough patients. Given eligibility criteria, return the clinical trial will be poor enrollment, good enrollment, or excellent enrollment.\"}, {'function_name': 'predict_outcome', 'description': 'Given the drug name, phase, disease name, eligibility criteria, predict the outcome of the clinical trial. Here, the trial outcome refers to a binary success indicator whether the trial is completed to meet their primary endpoints. '}]\n",
      "[\n",
      "    {\n",
      "        \"function_name\": \"safety_agent\",\n",
      "        \"description\": \"To understand the safety of the drug, including toxicity and side effects, consult the Safety Agent for safety information. Given drug name, return the safety information of the drug, e.g. ADMET, drug introduction, toxicity and side effects etc.\"\n",
      "    },\n",
      "    {\n",
      "        \"function_name\": \"efficacy_agent\",\n",
      "        \"description\": \"To assess the drug's efficacy against the diseases, ask the Efficacy Agent for information regarding the drug's effectiveness on the disease. Given drug name and disease name, return the drug introduction, disease introduction, and the path between drug and disease in the hetionet knowledge graph etc.\"\n",
      "    },\n",
      "    {\n",
      "        \"function_name\": \"enrollment_agent\",\n",
      "        \"description\": \"To determine if the clinical trial's eligibility criteria facilitate easy enrollment with enough patients. Given eligibility criteria, return the clinical trial will be poor enrollment, good enrollment, or excellent enrollment.\"\n",
      "    },\n",
      "    {\n",
      "        \"function_name\": \"predict_outcome\",\n",
      "        \"description\": \"Given the drug name, phase, disease name, eligibility criteria, predict the outcome of the clinical trial. Here, the trial outcome refers to a binary success indicator whether the trial is completed to meet their primary endpoints. \"\n",
      "    }\n",
      "]\n"
     ]
    }
   ],
   "source": [
    "# tools\n",
    "\n",
    "func_content = [\n",
    "    {'function_name': tool['function']['name'], 'description': tool['function']['description']} for tool in tools\n",
    "]\n",
    "\n",
    "LOGGER.log_with_depth(func_content)\n",
    "LOGGER.log_with_depth(json.dumps(func_content, indent=4))"
   ]
  },
  {
   "cell_type": "code",
   "execution_count": 28,
   "metadata": {},
   "outputs": [],
   "source": [
    "def predict_outcome(drug_name, phase, disease_name, eligibility_criteria):\n",
    "    \n",
    "    return 0.7\n",
    "\n"
   ]
  },
  {
   "cell_type": "code",
   "execution_count": 29,
   "metadata": {},
   "outputs": [],
   "source": [
    "system_prompt = '''\n",
    "You are an expert capable of solve the subproblems which decomposed from the original problem.\n",
    "You can use the tools to ask agents or tools to solve the subproblems step by step.\n",
    "This approach simplifies complex issues. We have three agents: the Safety Agent, the Efficacy Agent, and the Enrollment Agent. And we have one function: predict_outcome.\n",
    "'''"
   ]
  },
  {
   "cell_type": "code",
   "execution_count": null,
   "metadata": {},
   "outputs": [],
   "source": []
  },
  {
   "cell_type": "code",
   "execution_count": 30,
   "metadata": {},
   "outputs": [
    {
     "data": {
      "text/plain": [
       "[]"
      ]
     },
     "execution_count": 30,
     "metadata": {},
     "output_type": "execute_result"
    }
   ],
   "source": [
    "def exec_func(choices):\n",
    "    results = []\n",
    "\n",
    "    for choice in choices:\n",
    "        if choice.finish_reason == \"tool_calls\":\n",
    "            tool_calls = choice.message.tool_calls\n",
    "            for tool_call in tool_calls:\n",
    "                function_name = tool_call.function.name\n",
    "                arguments = tool_call.function.arguments\n",
    "                arguments = json.loads(arguments)\n",
    "\n",
    "                result =  eval(f\"{function_name}(**{arguments})\")\n",
    "\n",
    "                results.append((\n",
    "                    f\"The function {function_name} is called and the result is {result}\",\n",
    "                    result,\n",
    "                ))\n",
    "\n",
    "    return results\n",
    "\n",
    "exec_func(response.choices)"
   ]
  },
  {
   "cell_type": "code",
   "execution_count": null,
   "metadata": {},
   "outputs": [],
   "source": []
  },
  {
   "cell_type": "markdown",
   "metadata": {},
   "source": [
    "## Define the Agents"
   ]
  },
  {
   "cell_type": "markdown",
   "metadata": {},
   "source": [
    "### Safety Agent"
   ]
  },
  {
   "cell_type": "code",
   "execution_count": 31,
   "metadata": {},
   "outputs": [],
   "source": [
    "def get_ADMET_property(drug_name):\n",
    "\n",
    "    admet_json = {\n",
    "        \"Absorption\": \"High\",\n",
    "        \"Distribution\": \"Low\",\n",
    "        \"Metabolism\": \"Medium\",\n",
    "        \"Excretion\": \"High\",\n",
    "        \"Toxicity\": \"Low\"\n",
    "    }\n",
    "\n",
    "    return admet_json\n",
    "\n",
    "def get_SMILES(drug_name):\n",
    "    return \"CC1=CC(=C(C=C1)C(=O)O)O\"\n",
    "\n",
    "def retrieval_drugbank(drug_name):\n",
    "\n",
    "    drugbank_info = ''' \n",
    "        Dasatinib is a tyrosine kinase inhibitor used in the treatment of certain types of chronic myeloid leukemia (CML) and acute lymphoblastic leukemia (ALL) that are Philadelphia chromosome-positive. It works by blocking the action of an abnormal protein that signals cancer cells to multiply. This helps to stop the spread of cancer cells.\n",
    "        Ketoconazole is an antifungal agent that can also inhibit certain cytochrome P450 enzymes, particularly CYP3A4, which are involved in the metabolism of many drugs.\n",
    "        When dasatinib and ketoconazole are taken together, there can be an interaction because ketoconazole can inhibit the metabolism of dasatinib. This inhibition can lead to increased levels of dasatinib in the blood, potentially leading to an increase in side effects or toxicity. Side effects of dasatinib include, but are not limited to, myelosuppression, bleeding, fluid retention, and cardiac events.\n",
    "        Patients taking dasatinib in combination with ketoconazole or other potent CYP3A4 inhibitors should be monitored closely for adverse reactions associated with high dasatinib levels, and dose adjustments of dasatinib may be necessary.\n",
    "    '''\n",
    "\n",
    "    return drugbank_info\n",
    "\n",
    "def safety_agent(drug_name):\n",
    "    tools = [\n",
    "        {\n",
    "            \"type\": \"function\",\n",
    "            \"function\": {\n",
    "                \"name\": \"get_ADMET_property\",\n",
    "                \"description\": \"Provided with a drug's name, the model offers insights into its Absorption, Distribution, Metabolism, Excretion, and Toxicity (ADMET) characteristics.\",\n",
    "                \"parameters\": {\n",
    "                    \"type\": \"object\",\n",
    "                    \"properties\": {\n",
    "                        \"drug_name\": {\n",
    "                            \"type\": \"string\",\n",
    "                            \"description\": \"The drug name\",\n",
    "                        }\n",
    "                    },\n",
    "                    \"required\": [\"drug_name\"],\n",
    "                },\n",
    "            }\n",
    "        },\n",
    "        {\n",
    "            \"type\": \"function\",\n",
    "            \"function\": {\n",
    "                \"name\": \"get_SMILES\",\n",
    "                \"description\": \"Given a drug's name, the model returns its Simplified Molecular Input Line Entry System (SMILES) notation.\",\n",
    "                \"parameters\": {\n",
    "                    \"type\": \"object\",\n",
    "                    \"properties\": {\n",
    "                        \"drug_name\": {\n",
    "                            \"type\": \"string\",\n",
    "                            \"description\": \"The drug name\",\n",
    "                        }\n",
    "                    },\n",
    "                    \"required\": [\"drug_name\"],\n",
    "                },\n",
    "            }\n",
    "        },\n",
    "        {\n",
    "            \"type\": \"function\",\n",
    "            \"function\": {\n",
    "                \"name\": \"retrieval_drugbank\",\n",
    "                \"description\": \"Given a drug's name, the model retrieves its information from DrugBank database.\",\n",
    "                \"parameters\": {\n",
    "                    \"type\": \"object\",\n",
    "                    \"properties\": {\n",
    "                        \"drug_name\": {\n",
    "                            \"type\": \"string\",\n",
    "                            \"description\": \"The drug name\",\n",
    "                        }\n",
    "                    },\n",
    "                    \"required\": [\"drug_name\"],\n",
    "                },\n",
    "            }\n",
    "        }\n",
    "    ]\n",
    "    \n",
    "    messages = []\n",
    "\n",
    "    system_prompt = ''' \n",
    "    As a drug safety expert, you have the capability to assess a drug's safety by examining its toxicity and side effects. \n",
    "    You can use tools to obtain the ADMET properties of the drug, access information from DrugBank, and retrieve the drug's SMILES notation. \n",
    "    Moreover, you can offer insights into the drug based on your expertise. \n",
    "    '''\n",
    "\n",
    "    messages.append({ \"role\": \"system\", \"content\": system_prompt})\n",
    "\n",
    "    messages.append(\n",
    "    { \"role\": \"user\", \"content\": '''\n",
    "        To begin, you must break down the user's problem into smaller, manageable subproblems in <subproblem></subproblem>. Ensuring each subproblem requires only a function to resolve. For instance:\n",
    "        Question: How can I evaluate the safety of the drug aspirin?\n",
    "        Answer: <subproblem> To understand the drug's structure, we need to obtain the SMILES notation of the drug. </subproblem>\n",
    "        <subproblem>To assess the drug's safety profile, we should retrieve information from the DrugBank database. </subproblem>\n",
    "        <subproblem>To evaluate the drug's ADMET properties, we need to obtain the Absorption, Distribution, Metabolism, Excretion, and Toxicity characteristics of the drug by calling the get_ADMET_property function.</subproblem>\n",
    "        <subproblem>Provide the insight into drug safety, including toxicity and side effects, based on your knowledge.</subproblem>\n",
    "    '''}\n",
    "    )\n",
    "\n",
    "    messages.append({ \"role\": \"user\", \"content\": f\"Please you help me to evaluate the safety of the drug: {drug_name}\"})\n",
    "\n",
    "    response = chat_completion_request(messages)\n",
    "    messages.append({ \"role\": \"assistant\", \"content\": response.choices[0].message.content})\n",
    "\n",
    "    subproblems_str = messages[-1][\"content\"]\n",
    "\n",
    "    subproblems = re.findall(r\"<subproblem>(.*?)</subproblem>\", subproblems_str)\n",
    "    subproblems = [subproblem.strip() for subproblem in subproblems]\n",
    "\n",
    "    problem_results = []\n",
    "    for sub_problem in tqdm(subproblems):\n",
    "        response = chat_completion_request(\n",
    "            [{ \"role\": \"system\", \"content\": system_prompt }, {\n",
    "                \"role\": \"user\", \"content\": f\"The original user problem is: {user_prompt}\"\n",
    "            }, { \"role\": \"user\", \"content\": sub_problem }],\n",
    "            tools=tools)\n",
    "        \n",
    "        sub_results = [r[0] for r in exec_func(response.choices)]\n",
    "        \n",
    "        problem_results.extend(sub_results)\n",
    "\n",
    "    return problem_results\n"
   ]
  },
  {
   "cell_type": "code",
   "execution_count": 32,
   "metadata": {},
   "outputs": [
    {
     "name": "stderr",
     "output_type": "stream",
     "text": [
      "100%|██████████| 5/5 [00:20<00:00,  4.14s/it]"
     ]
    },
    {
     "name": "stdout",
     "output_type": "stream",
     "text": [
      "['The function get_SMILES is called and the result is CC1=CC(=C(C=C1)C(=O)O)O', 'The function get_SMILES is called and the result is CC1=CC(=C(C=C1)C(=O)O)O', 'The function retrieval_drugbank is called and the result is  \\n        Dasatinib is a tyrosine kinase inhibitor used in the treatment of certain types of chronic myeloid leukemia (CML) and acute lymphoblastic leukemia (ALL) that are Philadelphia chromosome-positive. It works by blocking the action of an abnormal protein that signals cancer cells to multiply. This helps to stop the spread of cancer cells.\\n        Ketoconazole is an antifungal agent that can also inhibit certain cytochrome P450 enzymes, particularly CYP3A4, which are involved in the metabolism of many drugs.\\n        When dasatinib and ketoconazole are taken together, there can be an interaction because ketoconazole can inhibit the metabolism of dasatinib. This inhibition can lead to increased levels of dasatinib in the blood, potentially leading to an increase in side effects or toxicity. Side effects of dasatinib include, but are not limited to, myelosuppression, bleeding, fluid retention, and cardiac events.\\n        Patients taking dasatinib in combination with ketoconazole or other potent CYP3A4 inhibitors should be monitored closely for adverse reactions associated with high dasatinib levels, and dose adjustments of dasatinib may be necessary.\\n    ', 'The function retrieval_drugbank is called and the result is  \\n        Dasatinib is a tyrosine kinase inhibitor used in the treatment of certain types of chronic myeloid leukemia (CML) and acute lymphoblastic leukemia (ALL) that are Philadelphia chromosome-positive. It works by blocking the action of an abnormal protein that signals cancer cells to multiply. This helps to stop the spread of cancer cells.\\n        Ketoconazole is an antifungal agent that can also inhibit certain cytochrome P450 enzymes, particularly CYP3A4, which are involved in the metabolism of many drugs.\\n        When dasatinib and ketoconazole are taken together, there can be an interaction because ketoconazole can inhibit the metabolism of dasatinib. This inhibition can lead to increased levels of dasatinib in the blood, potentially leading to an increase in side effects or toxicity. Side effects of dasatinib include, but are not limited to, myelosuppression, bleeding, fluid retention, and cardiac events.\\n        Patients taking dasatinib in combination with ketoconazole or other potent CYP3A4 inhibitors should be monitored closely for adverse reactions associated with high dasatinib levels, and dose adjustments of dasatinib may be necessary.\\n    ', \"The function get_ADMET_property is called and the result is {'Absorption': 'High', 'Distribution': 'Low', 'Metabolism': 'Medium', 'Excretion': 'High', 'Toxicity': 'Low'}\", \"The function get_ADMET_property is called and the result is {'Absorption': 'High', 'Distribution': 'Low', 'Metabolism': 'Medium', 'Excretion': 'High', 'Toxicity': 'Low'}\", 'The function retrieval_drugbank is called and the result is  \\n        Dasatinib is a tyrosine kinase inhibitor used in the treatment of certain types of chronic myeloid leukemia (CML) and acute lymphoblastic leukemia (ALL) that are Philadelphia chromosome-positive. It works by blocking the action of an abnormal protein that signals cancer cells to multiply. This helps to stop the spread of cancer cells.\\n        Ketoconazole is an antifungal agent that can also inhibit certain cytochrome P450 enzymes, particularly CYP3A4, which are involved in the metabolism of many drugs.\\n        When dasatinib and ketoconazole are taken together, there can be an interaction because ketoconazole can inhibit the metabolism of dasatinib. This inhibition can lead to increased levels of dasatinib in the blood, potentially leading to an increase in side effects or toxicity. Side effects of dasatinib include, but are not limited to, myelosuppression, bleeding, fluid retention, and cardiac events.\\n        Patients taking dasatinib in combination with ketoconazole or other potent CYP3A4 inhibitors should be monitored closely for adverse reactions associated with high dasatinib levels, and dose adjustments of dasatinib may be necessary.\\n    ', \"The function get_ADMET_property is called and the result is {'Absorption': 'High', 'Distribution': 'Low', 'Metabolism': 'Medium', 'Excretion': 'High', 'Toxicity': 'Low'}\", \"The function get_ADMET_property is called and the result is {'Absorption': 'High', 'Distribution': 'Low', 'Metabolism': 'Medium', 'Excretion': 'High', 'Toxicity': 'Low'}\", 'The function retrieval_drugbank is called and the result is  \\n        Dasatinib is a tyrosine kinase inhibitor used in the treatment of certain types of chronic myeloid leukemia (CML) and acute lymphoblastic leukemia (ALL) that are Philadelphia chromosome-positive. It works by blocking the action of an abnormal protein that signals cancer cells to multiply. This helps to stop the spread of cancer cells.\\n        Ketoconazole is an antifungal agent that can also inhibit certain cytochrome P450 enzymes, particularly CYP3A4, which are involved in the metabolism of many drugs.\\n        When dasatinib and ketoconazole are taken together, there can be an interaction because ketoconazole can inhibit the metabolism of dasatinib. This inhibition can lead to increased levels of dasatinib in the blood, potentially leading to an increase in side effects or toxicity. Side effects of dasatinib include, but are not limited to, myelosuppression, bleeding, fluid retention, and cardiac events.\\n        Patients taking dasatinib in combination with ketoconazole or other potent CYP3A4 inhibitors should be monitored closely for adverse reactions associated with high dasatinib levels, and dose adjustments of dasatinib may be necessary.\\n    ', 'The function retrieval_drugbank is called and the result is  \\n        Dasatinib is a tyrosine kinase inhibitor used in the treatment of certain types of chronic myeloid leukemia (CML) and acute lymphoblastic leukemia (ALL) that are Philadelphia chromosome-positive. It works by blocking the action of an abnormal protein that signals cancer cells to multiply. This helps to stop the spread of cancer cells.\\n        Ketoconazole is an antifungal agent that can also inhibit certain cytochrome P450 enzymes, particularly CYP3A4, which are involved in the metabolism of many drugs.\\n        When dasatinib and ketoconazole are taken together, there can be an interaction because ketoconazole can inhibit the metabolism of dasatinib. This inhibition can lead to increased levels of dasatinib in the blood, potentially leading to an increase in side effects or toxicity. Side effects of dasatinib include, but are not limited to, myelosuppression, bleeding, fluid retention, and cardiac events.\\n        Patients taking dasatinib in combination with ketoconazole or other potent CYP3A4 inhibitors should be monitored closely for adverse reactions associated with high dasatinib levels, and dose adjustments of dasatinib may be necessary.\\n    ']\n"
     ]
    },
    {
     "name": "stderr",
     "output_type": "stream",
     "text": [
      "\n"
     ]
    }
   ],
   "source": [
    "agent_results = safety_agent(\"dasatinib + ketoconazole\")\n",
    "\n",
    "LOGGER.log_with_depth(agent_results)"
   ]
  },
  {
   "cell_type": "markdown",
   "metadata": {},
   "source": [
    "### Efficacy Agent"
   ]
  },
  {
   "cell_type": "code",
   "execution_count": 33,
   "metadata": {},
   "outputs": [],
   "source": [
    "def get_disease_icdcode(disease_name):\n",
    "    return \"E11.9\"\n",
    "\n",
    "def get_disease_risk(disease_name):\n",
    "    return 0.6\n",
    "\n",
    "def retrieval_drugbank(drug_name):\n",
    "    drugbank_info = ''' \n",
    "        Dasatinib is a tyrosine kinase inhibitor used in the treatment of certain types of chronic myeloid leukemia (CML) and acute lymphoblastic leukemia (ALL) that are Philadelphia chromosome-positive. It works by blocking the action of an abnormal protein that signals cancer cells to multiply. This helps to stop the spread of cancer cells.\n",
    "        Ketoconazole is an antifungal agent that can also inhibit certain cytochrome P450 enzymes, particularly CYP3A4, which are involved in the metabolism of many drugs.\n",
    "        When dasatinib and ketoconazole are taken together, there can be an interaction because ketoconazole can inhibit the metabolism of dasatinib. This inhibition can lead to increased levels of dasatinib in the blood, potentially leading to an increase in side effects or toxicity. Side effects of dasatinib include, but are not limited to, myelosuppression, bleeding, fluid retention, and cardiac events.\n",
    "        Patients taking dasatinib in combination with ketoconazole or other potent CYP3A4 inhibitors should be monitored closely for adverse reactions associated with high dasatinib levels, and dose adjustments of dasatinib may be necessary.\n",
    "    '''\n",
    "\n",
    "    return drugbank_info\n",
    "\n",
    "def retrieval_hetionet(drug_name, disease_name):\n",
    "\n",
    "    kg_path = [\n",
    "        (\"Dasatinib\", \"Inhibits\", \"SRC Family Kinases\"), \n",
    "        (\"SRC Family Kinases\", \"Involved in\", \"Adhesion, Migration, and Angiogenesis\"), \n",
    "        (\"Adhesion, Migration, and Angiogenesis\", \"Facilitate\", \"Tumor Metastasis and Growth\"), \n",
    "        (\"Dasatinib\", \"Reduces/Inhibits\", \"Tumor Metastasis and Growth\"),\n",
    "\n",
    "        (\"Dasatinib\", \"Inhibits\", \"PDGFR\"), \n",
    "        (\"PDGFR\", \"Participates in\", \"Cell Growth and Survival Pathways\"), \n",
    "        (\"Cell Growth and Survival Pathways\", \"Lead to\", \"Enhanced Cellular Proliferation and Survival\"), \n",
    "        (\"Enhanced Cellular Proliferation and Survival\", \"Promotes\", \"Tumor Progression\"), \n",
    "        (\"Dasatinib\", \"Reduces/Inhibits\", \"Tumor Progression\"),\n",
    "\n",
    "        (\"Dasatinib\", \"Inhibits\", \"EPHA2\"), \n",
    "        (\"EPHA2\", \"Involved in\", \"Oncogenic Signaling Pathways\"), \n",
    "        (\"Oncogenic Signaling Pathways\", \"Contribute to\", \"Tumor Cell Migration and Invasion\"), \n",
    "        (\"Tumor Cell Migration and Invasion\", \"Facilitates\", \"Tumor Metastasis\"), \n",
    "        (\"Dasatinib\", \"Reduces/Inhibits\", \"Tumor Metastasis\")\n",
    "    ]\n",
    "\n",
    "    return kg_path\n",
    "\n",
    "def get_SMILES(drug_name):\n",
    "    return \"CC1=CC(=C(C=C1)C(=O)O)\"\n",
    "\n",
    "def efficacy_agent(drug_name, disease_name):\n",
    "\n",
    "\n",
    "    tools = [\n",
    "        {\n",
    "            \"type\": \"function\",\n",
    "            \"function\": {\n",
    "                \"name\": \"get_disease_icdcode\",\n",
    "                \"description\": ''' \n",
    "                Given the name of a disease, the model returns the ICD code for the disease. \n",
    "                The International Classification of Diseases (ICD) code is a global system used for classifying health conditions and diseases, managed by the WHO. \n",
    "                It standardizes health data for clinical, epidemiological, and administrative purposes, facilitating worldwide health information exchange.\n",
    "                ''',\n",
    "                \"parameters\": {\n",
    "                    \"type\": \"object\",\n",
    "                    \"properties\": {\n",
    "                        \"disease_name\": {\n",
    "                            \"type\": \"string\",\n",
    "                            \"description\": \"The disease name\",\n",
    "                        }\n",
    "                    },\n",
    "                    \"required\": [\"disease_name\"],\n",
    "                },\n",
    "            }\n",
    "        },\n",
    "        {\n",
    "            \"type\": \"function\",\n",
    "            \"function\": {\n",
    "                \"name\": \"get_disease_risk\",\n",
    "                \"description\": \"Given the name of a disease, the model returns the the historical success rate of the target disease in clinical trials.\",\n",
    "                \"parameters\": {\n",
    "                    \"type\": \"object\",\n",
    "                    \"properties\": {\n",
    "                        \"disease_name\": {\n",
    "                            \"type\": \"string\",\n",
    "                            \"description\": \"The disease name\",\n",
    "                        }\n",
    "                    },\n",
    "                    \"required\": [\"disease_name\"],\n",
    "                }\n",
    "            }\n",
    "        },\n",
    "        {\n",
    "            \"type\": \"function\",\n",
    "            \"function\": {\n",
    "                \"name\": \"retrieval_drugbank\",\n",
    "                \"description\": \"Given a drug's name, the model retrieves its information from DrugBank database.\",\n",
    "                \"parameters\": {\n",
    "                    \"type\": \"object\",\n",
    "                    \"properties\": {\n",
    "                        \"drug_name\": {\n",
    "                            \"type\": \"string\",\n",
    "                            \"description\": \"The drug name\",\n",
    "                        }\n",
    "                    },\n",
    "                    \"required\": [\"drug_name\"],\n",
    "                },\n",
    "            }\n",
    "        },\n",
    "        {\n",
    "            \"type\": \"function\",\n",
    "            \"function\": {\n",
    "                \"name\": \"retrieval_hetionet\",\n",
    "                \"description\": '''\n",
    "                Given the names of a drug and a disease, the model retrieves the path connecting the drug to the disease from the Hetionet Knowledge Graph. \n",
    "                Hetionet is a comprehensive knowledge graph that integrates diverse biological information by connecting genes, diseases, compounds, and more into an interoperable framework. \n",
    "                It structures real-world biomedical data into a network, facilitating advanced analysis and discovery of new insights into disease mechanisms, drug repurposing, and the genetic underpinnings of health and disease.\n",
    "                ''',\n",
    "                \"parameters\": {\n",
    "                    \"type\": \"object\",\n",
    "                    \"properties\": {\n",
    "                        \"drug_name\": {\n",
    "                            \"type\": \"string\",\n",
    "                            \"description\": \"The drug name\",\n",
    "                        },\n",
    "                        \"disease_name\": {\n",
    "                            \"type\": \"string\",\n",
    "                            \"description\": \"The disease name\",\n",
    "                        }\n",
    "                    },\n",
    "                    \"required\": [\"drug_name\", \"disease_name\"],\n",
    "                },\n",
    "            }\n",
    "        },\n",
    "        {\n",
    "            \"type\": \"function\",\n",
    "            \"function\": {\n",
    "                \"name\": \"get_SMILES\",\n",
    "                \"description\": \"Given a drug's name, the model returns its Simplified Molecular Input Line Entry System (SMILES) notation.\",\n",
    "                \"parameters\": {\n",
    "                    \"type\": \"object\",\n",
    "                    \"properties\": {\n",
    "                        \"drug_name\": {\n",
    "                            \"type\": \"string\",\n",
    "                            \"description\": \"The drug name\",\n",
    "                        }\n",
    "                    },\n",
    "                    \"required\": [\"drug_name\"],\n",
    "                },\n",
    "            }\n",
    "        },\n",
    "    ]\n",
    "\n",
    "\n",
    "    \n",
    "\n",
    "    messages = []\n",
    "\n",
    "    system_prompt = ''' \n",
    "        As an efficacy expert, you have the capability to assess a drug's efficacy against diseases by examining its effectiveness on the disease. \n",
    "        You can use tools to obtain information on the drug, the disease, the disease's historical success rate, and the connection between the drug and disease in the Hetionet knowledge graph, among other things.\n",
    "        Furthermore, you can offer insights into the drug and disease based on your expertise.\n",
    "    '''\n",
    "\n",
    "    messages.append({ \"role\": \"system\", \"content\": system_prompt})\n",
    "\n",
    "    messages.append(\n",
    "    { \"role\": \"user\", \"content\": '''\n",
    "        To begin, you must break down the user's problem into smaller, manageable subproblems in <subproblem></subproblem>. Ensuring each subproblem requires only a function to resolve. For instance:\n",
    "        Question: How can I evaluate the efficacy of the drug aspirin on the disease diabetes?\n",
    "        Answer:\n",
    "        <subproblem> To understand the drug's structure, we need to obtain the SMILES notation of the drug. </subproblem>\n",
    "        <subproblem> To assess the drug's efficacy against the disease, we should retrieve information from the DrugBank database. </subproblem>\n",
    "        <subproblem> To determine the historical success rate of the target disease in clinical trials, we need to call the get_disease_risk function. </subproblem>\n",
    "        <subproblem> To retrieve the ICD code for the disease, we need to call the get_disease_icdcode function. </subproblem>\n",
    "        <subproblem> To retrieve the path connecting the drug to the disease from the Hetionet Knowledge Graph, we need to call the retrieval_hetionet function. </subproblem>\n",
    "        <subproblem> Provide insights into the drug and disease based on your expertise and do not call any external tools. </subproblem>\n",
    "    '''}\n",
    "    )\n",
    "\n",
    "    messages.append({ \"role\": \"user\", \"content\": f\"Please you help me to evaluate the efficacy of the drug {drug_name} on the disease {disease_name}\"})\n",
    "\n",
    "    response = chat_completion_request(messages)\n",
    "    messages.append({ \"role\": \"assistant\", \"content\": response.choices[0].message.content})\n",
    "\n",
    "\n",
    "    subproblems_str = messages[-1][\"content\"]\n",
    "\n",
    "    subproblems = re.findall(r\"<subproblem>(.*?)</subproblem>\", subproblems_str)\n",
    "    subproblems = [subproblem.strip() for subproblem in subproblems]\n",
    "\n",
    "    problem_results = []\n",
    "    for sub_problem in tqdm(subproblems):\n",
    "        response = chat_completion_request(\n",
    "            [{ \"role\": \"system\", \"content\": system_prompt }, {\n",
    "                \"role\": \"user\", \"content\": f\"The original user problem is: {user_prompt}\"\n",
    "            }, { \"role\": \"user\", \"content\": sub_problem }],\n",
    "            tools=tools)\n",
    "        \n",
    "        sub_results = [r[0] for r in exec_func(response.choices)]\n",
    "        \n",
    "        problem_results.extend(sub_results)\n",
    "\n",
    "    return problem_results\n"
   ]
  },
  {
   "cell_type": "code",
   "execution_count": 34,
   "metadata": {},
   "outputs": [
    {
     "name": "stderr",
     "output_type": "stream",
     "text": [
      "100%|██████████| 10/10 [00:53<00:00,  5.39s/it]"
     ]
    },
    {
     "name": "stdout",
     "output_type": "stream",
     "text": [
      "['The function get_SMILES is called and the result is CC1=CC(=C(C=C1)C(=O)O)', 'The function get_SMILES is called and the result is CC1=CC(=C(C=C1)C(=O)O)', 'The function retrieval_drugbank is called and the result is  \\n        Dasatinib is a tyrosine kinase inhibitor used in the treatment of certain types of chronic myeloid leukemia (CML) and acute lymphoblastic leukemia (ALL) that are Philadelphia chromosome-positive. It works by blocking the action of an abnormal protein that signals cancer cells to multiply. This helps to stop the spread of cancer cells.\\n        Ketoconazole is an antifungal agent that can also inhibit certain cytochrome P450 enzymes, particularly CYP3A4, which are involved in the metabolism of many drugs.\\n        When dasatinib and ketoconazole are taken together, there can be an interaction because ketoconazole can inhibit the metabolism of dasatinib. This inhibition can lead to increased levels of dasatinib in the blood, potentially leading to an increase in side effects or toxicity. Side effects of dasatinib include, but are not limited to, myelosuppression, bleeding, fluid retention, and cardiac events.\\n        Patients taking dasatinib in combination with ketoconazole or other potent CYP3A4 inhibitors should be monitored closely for adverse reactions associated with high dasatinib levels, and dose adjustments of dasatinib may be necessary.\\n    ', 'The function retrieval_drugbank is called and the result is  \\n        Dasatinib is a tyrosine kinase inhibitor used in the treatment of certain types of chronic myeloid leukemia (CML) and acute lymphoblastic leukemia (ALL) that are Philadelphia chromosome-positive. It works by blocking the action of an abnormal protein that signals cancer cells to multiply. This helps to stop the spread of cancer cells.\\n        Ketoconazole is an antifungal agent that can also inhibit certain cytochrome P450 enzymes, particularly CYP3A4, which are involved in the metabolism of many drugs.\\n        When dasatinib and ketoconazole are taken together, there can be an interaction because ketoconazole can inhibit the metabolism of dasatinib. This inhibition can lead to increased levels of dasatinib in the blood, potentially leading to an increase in side effects or toxicity. Side effects of dasatinib include, but are not limited to, myelosuppression, bleeding, fluid retention, and cardiac events.\\n        Patients taking dasatinib in combination with ketoconazole or other potent CYP3A4 inhibitors should be monitored closely for adverse reactions associated with high dasatinib levels, and dose adjustments of dasatinib may be necessary.\\n    ', 'The function retrieval_drugbank is called and the result is  \\n        Dasatinib is a tyrosine kinase inhibitor used in the treatment of certain types of chronic myeloid leukemia (CML) and acute lymphoblastic leukemia (ALL) that are Philadelphia chromosome-positive. It works by blocking the action of an abnormal protein that signals cancer cells to multiply. This helps to stop the spread of cancer cells.\\n        Ketoconazole is an antifungal agent that can also inhibit certain cytochrome P450 enzymes, particularly CYP3A4, which are involved in the metabolism of many drugs.\\n        When dasatinib and ketoconazole are taken together, there can be an interaction because ketoconazole can inhibit the metabolism of dasatinib. This inhibition can lead to increased levels of dasatinib in the blood, potentially leading to an increase in side effects or toxicity. Side effects of dasatinib include, but are not limited to, myelosuppression, bleeding, fluid retention, and cardiac events.\\n        Patients taking dasatinib in combination with ketoconazole or other potent CYP3A4 inhibitors should be monitored closely for adverse reactions associated with high dasatinib levels, and dose adjustments of dasatinib may be necessary.\\n    ', 'The function retrieval_drugbank is called and the result is  \\n        Dasatinib is a tyrosine kinase inhibitor used in the treatment of certain types of chronic myeloid leukemia (CML) and acute lymphoblastic leukemia (ALL) that are Philadelphia chromosome-positive. It works by blocking the action of an abnormal protein that signals cancer cells to multiply. This helps to stop the spread of cancer cells.\\n        Ketoconazole is an antifungal agent that can also inhibit certain cytochrome P450 enzymes, particularly CYP3A4, which are involved in the metabolism of many drugs.\\n        When dasatinib and ketoconazole are taken together, there can be an interaction because ketoconazole can inhibit the metabolism of dasatinib. This inhibition can lead to increased levels of dasatinib in the blood, potentially leading to an increase in side effects or toxicity. Side effects of dasatinib include, but are not limited to, myelosuppression, bleeding, fluid retention, and cardiac events.\\n        Patients taking dasatinib in combination with ketoconazole or other potent CYP3A4 inhibitors should be monitored closely for adverse reactions associated with high dasatinib levels, and dose adjustments of dasatinib may be necessary.\\n    ', \"The function retrieval_hetionet is called and the result is [('Dasatinib', 'Inhibits', 'SRC Family Kinases'), ('SRC Family Kinases', 'Involved in', 'Adhesion, Migration, and Angiogenesis'), ('Adhesion, Migration, and Angiogenesis', 'Facilitate', 'Tumor Metastasis and Growth'), ('Dasatinib', 'Reduces/Inhibits', 'Tumor Metastasis and Growth'), ('Dasatinib', 'Inhibits', 'PDGFR'), ('PDGFR', 'Participates in', 'Cell Growth and Survival Pathways'), ('Cell Growth and Survival Pathways', 'Lead to', 'Enhanced Cellular Proliferation and Survival'), ('Enhanced Cellular Proliferation and Survival', 'Promotes', 'Tumor Progression'), ('Dasatinib', 'Reduces/Inhibits', 'Tumor Progression'), ('Dasatinib', 'Inhibits', 'EPHA2'), ('EPHA2', 'Involved in', 'Oncogenic Signaling Pathways'), ('Oncogenic Signaling Pathways', 'Contribute to', 'Tumor Cell Migration and Invasion'), ('Tumor Cell Migration and Invasion', 'Facilitates', 'Tumor Metastasis'), ('Dasatinib', 'Reduces/Inhibits', 'Tumor Metastasis')]\", \"The function retrieval_hetionet is called and the result is [('Dasatinib', 'Inhibits', 'SRC Family Kinases'), ('SRC Family Kinases', 'Involved in', 'Adhesion, Migration, and Angiogenesis'), ('Adhesion, Migration, and Angiogenesis', 'Facilitate', 'Tumor Metastasis and Growth'), ('Dasatinib', 'Reduces/Inhibits', 'Tumor Metastasis and Growth'), ('Dasatinib', 'Inhibits', 'PDGFR'), ('PDGFR', 'Participates in', 'Cell Growth and Survival Pathways'), ('Cell Growth and Survival Pathways', 'Lead to', 'Enhanced Cellular Proliferation and Survival'), ('Enhanced Cellular Proliferation and Survival', 'Promotes', 'Tumor Progression'), ('Dasatinib', 'Reduces/Inhibits', 'Tumor Progression'), ('Dasatinib', 'Inhibits', 'EPHA2'), ('EPHA2', 'Involved in', 'Oncogenic Signaling Pathways'), ('Oncogenic Signaling Pathways', 'Contribute to', 'Tumor Cell Migration and Invasion'), ('Tumor Cell Migration and Invasion', 'Facilitates', 'Tumor Metastasis'), ('Dasatinib', 'Reduces/Inhibits', 'Tumor Metastasis')]\", 'The function get_disease_risk is called and the result is 0.6', 'The function get_disease_icdcode is called and the result is E11.9', \"The function retrieval_hetionet is called and the result is [('Dasatinib', 'Inhibits', 'SRC Family Kinases'), ('SRC Family Kinases', 'Involved in', 'Adhesion, Migration, and Angiogenesis'), ('Adhesion, Migration, and Angiogenesis', 'Facilitate', 'Tumor Metastasis and Growth'), ('Dasatinib', 'Reduces/Inhibits', 'Tumor Metastasis and Growth'), ('Dasatinib', 'Inhibits', 'PDGFR'), ('PDGFR', 'Participates in', 'Cell Growth and Survival Pathways'), ('Cell Growth and Survival Pathways', 'Lead to', 'Enhanced Cellular Proliferation and Survival'), ('Enhanced Cellular Proliferation and Survival', 'Promotes', 'Tumor Progression'), ('Dasatinib', 'Reduces/Inhibits', 'Tumor Progression'), ('Dasatinib', 'Inhibits', 'EPHA2'), ('EPHA2', 'Involved in', 'Oncogenic Signaling Pathways'), ('Oncogenic Signaling Pathways', 'Contribute to', 'Tumor Cell Migration and Invasion'), ('Tumor Cell Migration and Invasion', 'Facilitates', 'Tumor Metastasis'), ('Dasatinib', 'Reduces/Inhibits', 'Tumor Metastasis')]\", \"The function retrieval_hetionet is called and the result is [('Dasatinib', 'Inhibits', 'SRC Family Kinases'), ('SRC Family Kinases', 'Involved in', 'Adhesion, Migration, and Angiogenesis'), ('Adhesion, Migration, and Angiogenesis', 'Facilitate', 'Tumor Metastasis and Growth'), ('Dasatinib', 'Reduces/Inhibits', 'Tumor Metastasis and Growth'), ('Dasatinib', 'Inhibits', 'PDGFR'), ('PDGFR', 'Participates in', 'Cell Growth and Survival Pathways'), ('Cell Growth and Survival Pathways', 'Lead to', 'Enhanced Cellular Proliferation and Survival'), ('Enhanced Cellular Proliferation and Survival', 'Promotes', 'Tumor Progression'), ('Dasatinib', 'Reduces/Inhibits', 'Tumor Progression'), ('Dasatinib', 'Inhibits', 'EPHA2'), ('EPHA2', 'Involved in', 'Oncogenic Signaling Pathways'), ('Oncogenic Signaling Pathways', 'Contribute to', 'Tumor Cell Migration and Invasion'), ('Tumor Cell Migration and Invasion', 'Facilitates', 'Tumor Metastasis'), ('Dasatinib', 'Reduces/Inhibits', 'Tumor Metastasis')]\"]\n"
     ]
    },
    {
     "name": "stderr",
     "output_type": "stream",
     "text": [
      "\n"
     ]
    }
   ],
   "source": [
    "agent_results = efficacy_agent(\"dasatinib + ketoconazole\", \"tumors\")\n",
    "\n",
    "LOGGER.log_with_depth(agent_results)"
   ]
  },
  {
   "cell_type": "markdown",
   "metadata": {},
   "source": [
    "### Enrollment Agent"
   ]
  },
  {
   "cell_type": "code",
   "execution_count": 35,
   "metadata": {},
   "outputs": [],
   "source": [
    "def enrollment_difficulty_model(eligibility_criteria):\n",
    "    return 0.2\n",
    "\n",
    "\n",
    "def enrollment_agent(eligibility_criteria):\n",
    "    tools = [\n",
    "        {\n",
    "            \"type\": \"function\",\n",
    "            \"function\": {\n",
    "                \"name\": \"enrollment_difficulty_model\",\n",
    "                \"description\": \"Given the eligibility criteria of a clinical trial, the model predicts the enrollment difficulty of the trial.\",\n",
    "                \"parameters\": {\n",
    "                    \"type\": \"object\",\n",
    "                    \"properties\": {\n",
    "                        \"eligibility_criteria\": {\n",
    "                            \"type\": \"string\",\n",
    "                            \"description\": \"The eligibility criteria of the clinical trial\",\n",
    "                        }\n",
    "                    },\n",
    "                    \"required\": [\"eligibility_criteria\"],\n",
    "                },\n",
    "            }\n",
    "        }\n",
    "    ]\n",
    "\n",
    "    messages = []\n",
    "\n",
    "    system_prompt = ''' \n",
    "        As an enrollment expert, you have the capability to predict the enrollment difficulty of a clinical trial based on its eligibility criteria. \n",
    "        You can use tools to predict the enrollment difficulty of the trial. \n",
    "    '''\n",
    "\n",
    "    messages.append({ \"role\": \"system\", \"content\": system_prompt})\n",
    "    messages.append({ \"role\": \"user\", \"content\": f\"Please you help me to evaluate the enrollment difficulty of the clinical trial with eligibility criteria.\"})\n",
    "    messages.append({ \"role\": \"user\", \"content\": user_prompt})\n",
    "\n",
    "    response = chat_completion_request(messages, tools=tools)\n",
    "\n",
    "    problem_results = [r[0] for r in exec_func(response.choices)]\n",
    "\n",
    "    return problem_results\n"
   ]
  },
  {
   "cell_type": "code",
   "execution_count": 36,
   "metadata": {},
   "outputs": [
    {
     "name": "stdout",
     "output_type": "stream",
     "text": [
      "['The function enrollment_difficulty_model is called and the result is 0.2']\n"
     ]
    }
   ],
   "source": [
    "agent_results = enrollment_agent(\"Inclusion Criteria: Patients with type 2 diabetes; Exclusion Criteria: Patients with type 1 diabetes\")\n",
    "\n",
    "LOGGER.log_with_depth(agent_results)"
   ]
  },
  {
   "cell_type": "markdown",
   "metadata": {},
   "source": [
    "## Solve the subproblems step by step"
   ]
  },
  {
   "cell_type": "code",
   "execution_count": 37,
   "metadata": {},
   "outputs": [
    {
     "name": "stderr",
     "output_type": "stream",
     "text": [
      "100%|██████████| 8/8 [00:23<00:00,  2.89s/it]\n",
      "100%|██████████| 6/6 [00:38<00:00,  6.45s/it]\n"
     ]
    }
   ],
   "source": [
    "problem_results = []\n",
    "\n",
    "for sub_problem in subproblems:\n",
    "    response = chat_completion_request(\n",
    "        [{ \"role\": \"system\", \"content\": system_prompt }, {\n",
    "            \"role\": \"user\", \"content\": f\"The original user problem is: {user_prompt}\"\n",
    "        }, { \"role\": \"user\", \"content\": sub_problem }],\n",
    "        tools=tools)\n",
    "    \n",
    "    sub_results = [r[0] for r in exec_func(response.choices)]\n",
    "\n",
    "    problem_results.extend(sub_results)\n"
   ]
  },
  {
   "cell_type": "code",
   "execution_count": 38,
   "metadata": {},
   "outputs": [
    {
     "name": "stdout",
     "output_type": "stream",
     "text": [
      "['The function safety_agent is called and the result is [\\'The function get_SMILES is called and the result is CC1=CC(=C(C=C1)C(=O)O)\\', \\'The function get_SMILES is called and the result is CC1=CC(=C(C=C1)C(=O)O)\\', \\'The function retrieval_drugbank is called and the result is  \\\\n        Dasatinib is a tyrosine kinase inhibitor used in the treatment of certain types of chronic myeloid leukemia (CML) and acute lymphoblastic leukemia (ALL) that are Philadelphia chromosome-positive. It works by blocking the action of an abnormal protein that signals cancer cells to multiply. This helps to stop the spread of cancer cells.\\\\n        Ketoconazole is an antifungal agent that can also inhibit certain cytochrome P450 enzymes, particularly CYP3A4, which are involved in the metabolism of many drugs.\\\\n        When dasatinib and ketoconazole are taken together, there can be an interaction because ketoconazole can inhibit the metabolism of dasatinib. This inhibition can lead to increased levels of dasatinib in the blood, potentially leading to an increase in side effects or toxicity. Side effects of dasatinib include, but are not limited to, myelosuppression, bleeding, fluid retention, and cardiac events.\\\\n        Patients taking dasatinib in combination with ketoconazole or other potent CYP3A4 inhibitors should be monitored closely for adverse reactions associated with high dasatinib levels, and dose adjustments of dasatinib may be necessary.\\\\n    \\', \\'The function retrieval_drugbank is called and the result is  \\\\n        Dasatinib is a tyrosine kinase inhibitor used in the treatment of certain types of chronic myeloid leukemia (CML) and acute lymphoblastic leukemia (ALL) that are Philadelphia chromosome-positive. It works by blocking the action of an abnormal protein that signals cancer cells to multiply. This helps to stop the spread of cancer cells.\\\\n        Ketoconazole is an antifungal agent that can also inhibit certain cytochrome P450 enzymes, particularly CYP3A4, which are involved in the metabolism of many drugs.\\\\n        When dasatinib and ketoconazole are taken together, there can be an interaction because ketoconazole can inhibit the metabolism of dasatinib. This inhibition can lead to increased levels of dasatinib in the blood, potentially leading to an increase in side effects or toxicity. Side effects of dasatinib include, but are not limited to, myelosuppression, bleeding, fluid retention, and cardiac events.\\\\n        Patients taking dasatinib in combination with ketoconazole or other potent CYP3A4 inhibitors should be monitored closely for adverse reactions associated with high dasatinib levels, and dose adjustments of dasatinib may be necessary.\\\\n    \\', \"The function get_ADMET_property is called and the result is {\\'Absorption\\': \\'High\\', \\'Distribution\\': \\'Low\\', \\'Metabolism\\': \\'Medium\\', \\'Excretion\\': \\'High\\', \\'Toxicity\\': \\'Low\\'}\", \"The function get_ADMET_property is called and the result is {\\'Absorption\\': \\'High\\', \\'Distribution\\': \\'Low\\', \\'Metabolism\\': \\'Medium\\', \\'Excretion\\': \\'High\\', \\'Toxicity\\': \\'Low\\'}\", \\'The function retrieval_drugbank is called and the result is  \\\\n        Dasatinib is a tyrosine kinase inhibitor used in the treatment of certain types of chronic myeloid leukemia (CML) and acute lymphoblastic leukemia (ALL) that are Philadelphia chromosome-positive. It works by blocking the action of an abnormal protein that signals cancer cells to multiply. This helps to stop the spread of cancer cells.\\\\n        Ketoconazole is an antifungal agent that can also inhibit certain cytochrome P450 enzymes, particularly CYP3A4, which are involved in the metabolism of many drugs.\\\\n        When dasatinib and ketoconazole are taken together, there can be an interaction because ketoconazole can inhibit the metabolism of dasatinib. This inhibition can lead to increased levels of dasatinib in the blood, potentially leading to an increase in side effects or toxicity. Side effects of dasatinib include, but are not limited to, myelosuppression, bleeding, fluid retention, and cardiac events.\\\\n        Patients taking dasatinib in combination with ketoconazole or other potent CYP3A4 inhibitors should be monitored closely for adverse reactions associated with high dasatinib levels, and dose adjustments of dasatinib may be necessary.\\\\n    \\', \\'The function retrieval_drugbank is called and the result is  \\\\n        Dasatinib is a tyrosine kinase inhibitor used in the treatment of certain types of chronic myeloid leukemia (CML) and acute lymphoblastic leukemia (ALL) that are Philadelphia chromosome-positive. It works by blocking the action of an abnormal protein that signals cancer cells to multiply. This helps to stop the spread of cancer cells.\\\\n        Ketoconazole is an antifungal agent that can also inhibit certain cytochrome P450 enzymes, particularly CYP3A4, which are involved in the metabolism of many drugs.\\\\n        When dasatinib and ketoconazole are taken together, there can be an interaction because ketoconazole can inhibit the metabolism of dasatinib. This inhibition can lead to increased levels of dasatinib in the blood, potentially leading to an increase in side effects or toxicity. Side effects of dasatinib include, but are not limited to, myelosuppression, bleeding, fluid retention, and cardiac events.\\\\n        Patients taking dasatinib in combination with ketoconazole or other potent CYP3A4 inhibitors should be monitored closely for adverse reactions associated with high dasatinib levels, and dose adjustments of dasatinib may be necessary.\\\\n    \\', \"The function get_ADMET_property is called and the result is {\\'Absorption\\': \\'High\\', \\'Distribution\\': \\'Low\\', \\'Metabolism\\': \\'Medium\\', \\'Excretion\\': \\'High\\', \\'Toxicity\\': \\'Low\\'}\", \"The function get_ADMET_property is called and the result is {\\'Absorption\\': \\'High\\', \\'Distribution\\': \\'Low\\', \\'Metabolism\\': \\'Medium\\', \\'Excretion\\': \\'High\\', \\'Toxicity\\': \\'Low\\'}\", \\'The function retrieval_drugbank is called and the result is  \\\\n        Dasatinib is a tyrosine kinase inhibitor used in the treatment of certain types of chronic myeloid leukemia (CML) and acute lymphoblastic leukemia (ALL) that are Philadelphia chromosome-positive. It works by blocking the action of an abnormal protein that signals cancer cells to multiply. This helps to stop the spread of cancer cells.\\\\n        Ketoconazole is an antifungal agent that can also inhibit certain cytochrome P450 enzymes, particularly CYP3A4, which are involved in the metabolism of many drugs.\\\\n        When dasatinib and ketoconazole are taken together, there can be an interaction because ketoconazole can inhibit the metabolism of dasatinib. This inhibition can lead to increased levels of dasatinib in the blood, potentially leading to an increase in side effects or toxicity. Side effects of dasatinib include, but are not limited to, myelosuppression, bleeding, fluid retention, and cardiac events.\\\\n        Patients taking dasatinib in combination with ketoconazole or other potent CYP3A4 inhibitors should be monitored closely for adverse reactions associated with high dasatinib levels, and dose adjustments of dasatinib may be necessary.\\\\n    \\', \\'The function retrieval_drugbank is called and the result is  \\\\n        Dasatinib is a tyrosine kinase inhibitor used in the treatment of certain types of chronic myeloid leukemia (CML) and acute lymphoblastic leukemia (ALL) that are Philadelphia chromosome-positive. It works by blocking the action of an abnormal protein that signals cancer cells to multiply. This helps to stop the spread of cancer cells.\\\\n        Ketoconazole is an antifungal agent that can also inhibit certain cytochrome P450 enzymes, particularly CYP3A4, which are involved in the metabolism of many drugs.\\\\n        When dasatinib and ketoconazole are taken together, there can be an interaction because ketoconazole can inhibit the metabolism of dasatinib. This inhibition can lead to increased levels of dasatinib in the blood, potentially leading to an increase in side effects or toxicity. Side effects of dasatinib include, but are not limited to, myelosuppression, bleeding, fluid retention, and cardiac events.\\\\n        Patients taking dasatinib in combination with ketoconazole or other potent CYP3A4 inhibitors should be monitored closely for adverse reactions associated with high dasatinib levels, and dose adjustments of dasatinib may be necessary.\\\\n    \\']', 'The function efficacy_agent is called and the result is [\\'The function get_SMILES is called and the result is CC1=CC(=C(C=C1)C(=O)O)\\', \\'The function get_SMILES is called and the result is CC1=CC(=C(C=C1)C(=O)O)\\', \\'The function retrieval_drugbank is called and the result is  \\\\n        Dasatinib is a tyrosine kinase inhibitor used in the treatment of certain types of chronic myeloid leukemia (CML) and acute lymphoblastic leukemia (ALL) that are Philadelphia chromosome-positive. It works by blocking the action of an abnormal protein that signals cancer cells to multiply. This helps to stop the spread of cancer cells.\\\\n        Ketoconazole is an antifungal agent that can also inhibit certain cytochrome P450 enzymes, particularly CYP3A4, which are involved in the metabolism of many drugs.\\\\n        When dasatinib and ketoconazole are taken together, there can be an interaction because ketoconazole can inhibit the metabolism of dasatinib. This inhibition can lead to increased levels of dasatinib in the blood, potentially leading to an increase in side effects or toxicity. Side effects of dasatinib include, but are not limited to, myelosuppression, bleeding, fluid retention, and cardiac events.\\\\n        Patients taking dasatinib in combination with ketoconazole or other potent CYP3A4 inhibitors should be monitored closely for adverse reactions associated with high dasatinib levels, and dose adjustments of dasatinib may be necessary.\\\\n    \\', \\'The function retrieval_drugbank is called and the result is  \\\\n        Dasatinib is a tyrosine kinase inhibitor used in the treatment of certain types of chronic myeloid leukemia (CML) and acute lymphoblastic leukemia (ALL) that are Philadelphia chromosome-positive. It works by blocking the action of an abnormal protein that signals cancer cells to multiply. This helps to stop the spread of cancer cells.\\\\n        Ketoconazole is an antifungal agent that can also inhibit certain cytochrome P450 enzymes, particularly CYP3A4, which are involved in the metabolism of many drugs.\\\\n        When dasatinib and ketoconazole are taken together, there can be an interaction because ketoconazole can inhibit the metabolism of dasatinib. This inhibition can lead to increased levels of dasatinib in the blood, potentially leading to an increase in side effects or toxicity. Side effects of dasatinib include, but are not limited to, myelosuppression, bleeding, fluid retention, and cardiac events.\\\\n        Patients taking dasatinib in combination with ketoconazole or other potent CYP3A4 inhibitors should be monitored closely for adverse reactions associated with high dasatinib levels, and dose adjustments of dasatinib may be necessary.\\\\n    \\', \\'The function get_disease_risk is called and the result is 0.6\\', \\'The function get_disease_icdcode is called and the result is E11.9\\', \"The function retrieval_hetionet is called and the result is [(\\'Dasatinib\\', \\'Inhibits\\', \\'SRC Family Kinases\\'), (\\'SRC Family Kinases\\', \\'Involved in\\', \\'Adhesion, Migration, and Angiogenesis\\'), (\\'Adhesion, Migration, and Angiogenesis\\', \\'Facilitate\\', \\'Tumor Metastasis and Growth\\'), (\\'Dasatinib\\', \\'Reduces/Inhibits\\', \\'Tumor Metastasis and Growth\\'), (\\'Dasatinib\\', \\'Inhibits\\', \\'PDGFR\\'), (\\'PDGFR\\', \\'Participates in\\', \\'Cell Growth and Survival Pathways\\'), (\\'Cell Growth and Survival Pathways\\', \\'Lead to\\', \\'Enhanced Cellular Proliferation and Survival\\'), (\\'Enhanced Cellular Proliferation and Survival\\', \\'Promotes\\', \\'Tumor Progression\\'), (\\'Dasatinib\\', \\'Reduces/Inhibits\\', \\'Tumor Progression\\'), (\\'Dasatinib\\', \\'Inhibits\\', \\'EPHA2\\'), (\\'EPHA2\\', \\'Involved in\\', \\'Oncogenic Signaling Pathways\\'), (\\'Oncogenic Signaling Pathways\\', \\'Contribute to\\', \\'Tumor Cell Migration and Invasion\\'), (\\'Tumor Cell Migration and Invasion\\', \\'Facilitates\\', \\'Tumor Metastasis\\'), (\\'Dasatinib\\', \\'Reduces/Inhibits\\', \\'Tumor Metastasis\\')]\", \"The function retrieval_hetionet is called and the result is [(\\'Dasatinib\\', \\'Inhibits\\', \\'SRC Family Kinases\\'), (\\'SRC Family Kinases\\', \\'Involved in\\', \\'Adhesion, Migration, and Angiogenesis\\'), (\\'Adhesion, Migration, and Angiogenesis\\', \\'Facilitate\\', \\'Tumor Metastasis and Growth\\'), (\\'Dasatinib\\', \\'Reduces/Inhibits\\', \\'Tumor Metastasis and Growth\\'), (\\'Dasatinib\\', \\'Inhibits\\', \\'PDGFR\\'), (\\'PDGFR\\', \\'Participates in\\', \\'Cell Growth and Survival Pathways\\'), (\\'Cell Growth and Survival Pathways\\', \\'Lead to\\', \\'Enhanced Cellular Proliferation and Survival\\'), (\\'Enhanced Cellular Proliferation and Survival\\', \\'Promotes\\', \\'Tumor Progression\\'), (\\'Dasatinib\\', \\'Reduces/Inhibits\\', \\'Tumor Progression\\'), (\\'Dasatinib\\', \\'Inhibits\\', \\'EPHA2\\'), (\\'EPHA2\\', \\'Involved in\\', \\'Oncogenic Signaling Pathways\\'), (\\'Oncogenic Signaling Pathways\\', \\'Contribute to\\', \\'Tumor Cell Migration and Invasion\\'), (\\'Tumor Cell Migration and Invasion\\', \\'Facilitates\\', \\'Tumor Metastasis\\'), (\\'Dasatinib\\', \\'Reduces/Inhibits\\', \\'Tumor Metastasis\\')]\"]', \"The function enrollment_agent is called and the result is ['The function enrollment_difficulty_model is called and the result is 0.2']\", 'The function predict_outcome is called and the result is 0.7']\n"
     ]
    }
   ],
   "source": [
    "LOGGER.log_with_depth(problem_results)"
   ]
  },
  {
   "cell_type": "code",
   "execution_count": 39,
   "metadata": {},
   "outputs": [
    {
     "name": "stdout",
     "output_type": "stream",
     "text": [
      "Final Result: Based on the analysis, it is predicted that the clinical trial could likely pass Phase I.\n",
      "\n",
      "Reasoning Step by Step:\n",
      "\n",
      "1. **Drug Combination and Action Mechanism**: The trial involves a combination of dasatinib and ketoconazole for treating tumors. Dasatinib is a tyrosine kinase inhibitor effective against certain types of chronic myeloid leukemia (CML) and acute lymphoblastic leukemia (ALL), blocking abnormal protein signals that prompt cancer cells to multiply. Ketoconazole, an antifungal agent, can inhibit CYP3A4 enzymes that metabolize many drugs, including dasatinib. This combination suggests a careful selection aimed at enhancing anti-cancer efficacy, but also highlights potential for increased toxicity due to drug interaction.\n",
      "\n",
      "2. **Pharmacokinetics and Potential Drug Interaction**: The information provided outlines that when dasatinib and ketoconazole are taken together, there can be significant drug-drug interaction leading to increased dasatinib levels due to inhibited metabolism. This necessitates close monitoring for adverse reactions and possibly dosing adjustments. Moreover, the ADMET properties (Absorption: High, Distribution: Low, Metabolism: Medium, Excretion: High, Toxicity: Low) suggest good biodistribution, which is favorable, but also indicate that the interaction between dasatinib and ketoconazole requires significant attention to manage toxicity.\n",
      "\n",
      "3. **Efficacy Against Tumors**: The scientific evidence supports the efficacy of dasatinib against tumor progression through the inhibition of various kinases involved in critical pathways facilitating tumor metastasis and growth. It demonstrates the potential for the drug combination to impede tumor progression, addressing the desperate need for effective treatments in advanced or metastatic diseases unresponsive to standard treatments.\n",
      "\n",
      "4. **Patient Enrollment Feasibility**: An enrollment difficulty assessment resulted in a score of 0.2, suggesting that recruiting participants for this clinical trial might be reasonably feasible. This implies that the inclusion and exclusion criteria are well balanced to ensure enough participants can be enrolled while ensuring participant safety.\n",
      "\n",
      "5. **Overall Predicted Outcome**: The predicted outcome (0.7) indicates a favorable chance of success in passing Phase I, mostly reliant on demonstrating safety. Given the mechanism of action, efficacy evidence, and careful consideration in patient recruitment reflecting the trial's feasibility, alongside adequate monitoring for adverse effects due to drug interactions, the trial stands a good chance of addressing Phase I goals.\n",
      "\n",
      "Each consideration, from the pharmacological interaction and efficacy evidence to the recruitment and monitoring plan, underscores the trial's thoughtful approach to maximizing potential benefits while managing risks, which collectively support a favorable prediction for passing Phase I.\n"
     ]
    }
   ],
   "source": [
    "messages = []\n",
    "\n",
    "system_prompt = ''' \n",
    "    You are an expert in clinical trials. Based on the subproblems have solved, please solve the user's problem and provide the reason.\n",
    "    Firstly, please give the final result of the user's problem.\n",
    "    Secondly, please provide the reason step by step for the result.\n",
    "'''\n",
    "\n",
    "messages.append({ \"role\": \"system\", \"content\": system_prompt})\n",
    "messages.append({ \"role\": \"user\", \"content\": f\"The original user problem is: {user_prompt}\"})\n",
    "messages.append({ \"role\": \"user\", \"content\": f\"The subproblems have solved are: {problem_results}\"})\n",
    "messages.append({ \"role\": \"user\", \"content\": \"Please solve the user's problem and provide the reason.\"})\n",
    "\n",
    "response = chat_completion_request(messages)\n",
    "\n",
    "LOGGER.log_with_depth(response.choices[0].message.content)\n"
   ]
  },
  {
   "cell_type": "code",
   "execution_count": null,
   "metadata": {},
   "outputs": [],
   "source": []
  },
  {
   "cell_type": "code",
   "execution_count": null,
   "metadata": {},
   "outputs": [],
   "source": []
  },
  {
   "cell_type": "code",
   "execution_count": null,
   "metadata": {},
   "outputs": [],
   "source": []
  }
 ],
 "metadata": {
  "kernelspec": {
   "display_name": "hint",
   "language": "python",
   "name": "python3"
  },
  "language_info": {
   "codemirror_mode": {
    "name": "ipython",
    "version": 3
   },
   "file_extension": ".py",
   "mimetype": "text/x-python",
   "name": "python",
   "nbconvert_exporter": "python",
   "pygments_lexer": "ipython3",
   "version": "3.8.19"
  }
 },
 "nbformat": 4,
 "nbformat_minor": 2
}
